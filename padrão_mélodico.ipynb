{
  "nbformat": 4,
  "nbformat_minor": 0,
  "metadata": {
    "colab": {
      "provenance": [],
      "authorship_tag": "ABX9TyPOKkILkI3dkT50JObKGyxu",
      "include_colab_link": true
    },
    "kernelspec": {
      "name": "python3",
      "display_name": "Python 3"
    },
    "language_info": {
      "name": "python"
    }
  },
  "cells": [
    {
      "cell_type": "markdown",
      "metadata": {
        "id": "view-in-github",
        "colab_type": "text"
      },
      "source": [
        "<a href=\"https://colab.research.google.com/github/Rogerodrigues/Geracao_de_partitura_com_python/blob/main/padr%C3%A3o_m%C3%A9lodico.ipynb\" target=\"_parent\"><img src=\"https://colab.research.google.com/assets/colab-badge.svg\" alt=\"Open In Colab\"/></a>"
      ]
    },
    {
      "cell_type": "code",
      "execution_count": null,
      "metadata": {
        "colab": {
          "base_uri": "https://localhost:8080/"
        },
        "id": "nnVlc7dA0U6S",
        "outputId": "357995ef-c2f6-4fd2-ce3b-923306c55cbe"
      },
      "outputs": [
        {
          "output_type": "stream",
          "name": "stdout",
          "text": [
            "Requirement already satisfied: music21 in /usr/local/lib/python3.11/dist-packages (9.3.0)\n",
            "Requirement already satisfied: chardet in /usr/local/lib/python3.11/dist-packages (from music21) (5.2.0)\n",
            "Requirement already satisfied: joblib in /usr/local/lib/python3.11/dist-packages (from music21) (1.5.1)\n",
            "Requirement already satisfied: jsonpickle in /usr/local/lib/python3.11/dist-packages (from music21) (4.1.1)\n",
            "Requirement already satisfied: matplotlib in /usr/local/lib/python3.11/dist-packages (from music21) (3.10.0)\n",
            "Requirement already satisfied: more-itertools in /usr/local/lib/python3.11/dist-packages (from music21) (10.7.0)\n",
            "Requirement already satisfied: numpy in /usr/local/lib/python3.11/dist-packages (from music21) (2.0.2)\n",
            "Requirement already satisfied: requests in /usr/local/lib/python3.11/dist-packages (from music21) (2.32.3)\n",
            "Requirement already satisfied: webcolors>=1.5 in /usr/local/lib/python3.11/dist-packages (from music21) (24.11.1)\n",
            "Requirement already satisfied: contourpy>=1.0.1 in /usr/local/lib/python3.11/dist-packages (from matplotlib->music21) (1.3.2)\n",
            "Requirement already satisfied: cycler>=0.10 in /usr/local/lib/python3.11/dist-packages (from matplotlib->music21) (0.12.1)\n",
            "Requirement already satisfied: fonttools>=4.22.0 in /usr/local/lib/python3.11/dist-packages (from matplotlib->music21) (4.58.1)\n",
            "Requirement already satisfied: kiwisolver>=1.3.1 in /usr/local/lib/python3.11/dist-packages (from matplotlib->music21) (1.4.8)\n",
            "Requirement already satisfied: packaging>=20.0 in /usr/local/lib/python3.11/dist-packages (from matplotlib->music21) (24.2)\n",
            "Requirement already satisfied: pillow>=8 in /usr/local/lib/python3.11/dist-packages (from matplotlib->music21) (11.2.1)\n",
            "Requirement already satisfied: pyparsing>=2.3.1 in /usr/local/lib/python3.11/dist-packages (from matplotlib->music21) (3.2.3)\n",
            "Requirement already satisfied: python-dateutil>=2.7 in /usr/local/lib/python3.11/dist-packages (from matplotlib->music21) (2.9.0.post0)\n",
            "Requirement already satisfied: charset-normalizer<4,>=2 in /usr/local/lib/python3.11/dist-packages (from requests->music21) (3.4.2)\n",
            "Requirement already satisfied: idna<4,>=2.5 in /usr/local/lib/python3.11/dist-packages (from requests->music21) (3.10)\n",
            "Requirement already satisfied: urllib3<3,>=1.21.1 in /usr/local/lib/python3.11/dist-packages (from requests->music21) (2.4.0)\n",
            "Requirement already satisfied: certifi>=2017.4.17 in /usr/local/lib/python3.11/dist-packages (from requests->music21) (2025.4.26)\n",
            "Requirement already satisfied: six>=1.5 in /usr/local/lib/python3.11/dist-packages (from python-dateutil>=2.7->matplotlib->music21) (1.17.0)\n"
          ]
        }
      ],
      "source": [
        "!pip install music21\n"
      ]
    },
    {
      "cell_type": "code",
      "source": [
        "\n",
        "\n",
        "from music21 import stream, note, meter, key, tempo, chord, expressions\n",
        "\n",
        "\n",
        "# Função para criar células rítmicas com base no padrão\n",
        "def criar_celula(acorde, tipo):\n",
        "    notas = []\n",
        "    if tipo == \"ascendente\":\n",
        "        indices = [0, 2, 4, 4]  # 1 - 3 - 5 - 5\n",
        "    elif tipo == \"descendente\":\n",
        "        indices = [0, 1, 3, 3]  # 1 - 2 - 4 - 4\n",
        "    elif tipo == \"alterado\":\n",
        "        indices = [0, 2, 4, 5, 3]  # 1 - 3 - 5 - 5# - 4\n",
        "    else:\n",
        "        indices = [0, 2, 4, 4]\n",
        "\n",
        "    for idx in indices:\n",
        "        try:\n",
        "            n = note.Note(acorde.pitches[idx])\n",
        "            n.quarterLength = 0.5  # colcheia\n",
        "            notas.append(n)\n",
        "        except IndexError:\n",
        "            pass\n",
        "    return notas\n",
        "\n",
        "# Lista dos acordes\n",
        "acordes = [\n",
        "    chord.Chord([\"E\", \"G\", \"B\", \"D\"]),\n",
        "    chord.Chord([\"E\", \"G\", \"B\", \"D\"]),\n",
        "    chord.Chord([\"A\", \"C\", \"E\", \"G\"]),\n",
        "    chord.Chord([\"D\", \"F\", \"A\", \"C\"]),\n",
        "    chord.Chord([\"D\", \"F#\", \"A\", \"C#\"]),\n",
        "    chord.Chord([\"G\", \"Bb\", \"D\", \"F\"]),\n",
        "    chord.Chord([\"C\", \"Eb\", \"G\", \"Bb\"]),\n",
        "    chord.Chord([\"F#\", \"A\", \"C\", \"E\"]),\n",
        "    chord.Chord([\"B\", \"D\", \"F#\", \"A\"]),\n",
        "    chord.Chord([\"E\", \"G#\", \"B\", \"D#\"]),\n",
        "    chord.Chord([\"F#\", \"A\", \"C\", \"E\"]),\n",
        "    chord.Chord([\"B\", \"D\", \"F#\", \"A\"]),\n",
        "    chord.Chord([\"E\", \"G\", \"B\", \"D\"]),\n",
        "    chord.Chord([\"F#\", \"A#\", \"C#\", \"F\"]),\n",
        "    chord.Chord([\"B\", \"D\", \"F#\", \"A\"]),\n",
        "    chord.Chord([\"G#\", \"B#\", \"D#\", \"G\"]),\n",
        "    chord.Chord([\"G\", \"Bb\", \"D\", \"F\"]),\n",
        "    chord.Chord([\"F#\", \"A#\", \"C#\", \"F\"]),\n",
        "    chord.Chord([\"B\", \"D\", \"F#\", \"A\"]),\n",
        "    chord.Chord([\"E\", \"G\", \"B\", \"D\"]),\n",
        "    chord.Chord([\"E\", \"G#\", \"B\", \"D#\"]),\n",
        "    chord.Chord([\"A\", \"C\", \"E\", \"G\"]),\n",
        "    chord.Chord([\"D\", \"F\", \"A\", \"C\"]),\n",
        "    chord.Chord([\"D\", \"F#\", \"A\", \"C#\"]),\n",
        "    chord.Chord([\"G\", \"Bb\", \"D\", \"F\"]),\n",
        "    chord.Chord([\"E\", \"G\", \"B\", \"D\"]),\n",
        "    chord.Chord([\"F#\", \"A#\", \"C#\", \"F\"]),\n",
        "    chord.Chord([\"B\", \"D\", \"F#\", \"A\"]),\n",
        "]\n",
        "\n",
        "padroes = [\"ascendente\", \"descendente\", \"alterado\"]\n",
        "\n",
        "partitura = stream.Stream()\n",
        "partitura.append(tempo.MetronomeMark(number=120))\n",
        "partitura.append(meter.TimeSignature('4/4'))\n",
        "partitura.append(key.KeySignature(0))\n",
        "\n",
        "for i, acorde in enumerate(acordes):\n",
        "    padrao = padroes[i % len(padroes)]\n",
        "    notas = criar_celula(acorde, padrao)\n",
        "    texto = expressions.TextExpression(f\"{acorde.commonName} - {padrao.capitalize()}\")\n",
        "    m = stream.Measure()\n",
        "    m.append(texto)\n",
        "    for n in notas:\n",
        "        m.append(n)\n",
        "    partitura.append(m)\n",
        "\n",
        "output_path = '/content/partitura_jazz_acordes.musicxml'\n",
        "partitura.write(\"musicxml\", fp=output_path)\n",
        "\n",
        "from google.colab import files\n",
        "files.download(output_path)\n",
        "\n",
        "print(\"✅ Partitura gerada e pronta para download!\")\n"
      ],
      "metadata": {
        "colab": {
          "base_uri": "https://localhost:8080/",
          "height": 35
        },
        "id": "fNz0DkPG0p9k",
        "outputId": "507b887f-d449-4f5d-ae35-b484b45b0227"
      },
      "execution_count": 6,
      "outputs": [
        {
          "output_type": "display_data",
          "data": {
            "text/plain": [
              "<IPython.core.display.Javascript object>"
            ],
            "application/javascript": [
              "\n",
              "    async function download(id, filename, size) {\n",
              "      if (!google.colab.kernel.accessAllowed) {\n",
              "        return;\n",
              "      }\n",
              "      const div = document.createElement('div');\n",
              "      const label = document.createElement('label');\n",
              "      label.textContent = `Downloading \"${filename}\": `;\n",
              "      div.appendChild(label);\n",
              "      const progress = document.createElement('progress');\n",
              "      progress.max = size;\n",
              "      div.appendChild(progress);\n",
              "      document.body.appendChild(div);\n",
              "\n",
              "      const buffers = [];\n",
              "      let downloaded = 0;\n",
              "\n",
              "      const channel = await google.colab.kernel.comms.open(id);\n",
              "      // Send a message to notify the kernel that we're ready.\n",
              "      channel.send({})\n",
              "\n",
              "      for await (const message of channel.messages) {\n",
              "        // Send a message to notify the kernel that we're ready.\n",
              "        channel.send({})\n",
              "        if (message.buffers) {\n",
              "          for (const buffer of message.buffers) {\n",
              "            buffers.push(buffer);\n",
              "            downloaded += buffer.byteLength;\n",
              "            progress.value = downloaded;\n",
              "          }\n",
              "        }\n",
              "      }\n",
              "      const blob = new Blob(buffers, {type: 'application/binary'});\n",
              "      const a = document.createElement('a');\n",
              "      a.href = window.URL.createObjectURL(blob);\n",
              "      a.download = filename;\n",
              "      div.appendChild(a);\n",
              "      a.click();\n",
              "      div.remove();\n",
              "    }\n",
              "  "
            ]
          },
          "metadata": {}
        },
        {
          "output_type": "display_data",
          "data": {
            "text/plain": [
              "<IPython.core.display.Javascript object>"
            ],
            "application/javascript": [
              "download(\"download_8a020eb1-22f3-43ee-8cd7-b45086a07bc1\", \"partitura_jazz_acordes.musicxml\", 33286)"
            ]
          },
          "metadata": {}
        },
        {
          "output_type": "stream",
          "name": "stdout",
          "text": [
            "✅ Partitura gerada e pronta para download!\n"
          ]
        }
      ]
    },
    {
      "cell_type": "code",
      "source": [],
      "metadata": {
        "id": "UEUq_v7D2M6a"
      },
      "execution_count": null,
      "outputs": []
    }
  ]
}